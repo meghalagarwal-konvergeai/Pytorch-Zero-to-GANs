{
 "cells": [
  {
   "cell_type": "code",
   "execution_count": 634,
   "metadata": {},
   "outputs": [],
   "source": [
    "import torch\n",
    "import torchvision\n",
    "from torchvision.datasets import MNIST\n",
    "import matplotlib.pyplot as plt\n",
    "%matplotlib inline\n",
    "import torchvision.transforms as transforms\n",
    "from torch.utils.data import random_split\n",
    "from torch.utils.data import DataLoader\n",
    "import torch.nn as nn\n",
    "import torch.nn.functional as F"
   ]
  },
  {
   "cell_type": "code",
   "execution_count": 635,
   "metadata": {},
   "outputs": [],
   "source": [
    "# Download MNIST dataset\n",
    "dataset = MNIST(root=\"data/\", download=True)"
   ]
  },
  {
   "cell_type": "code",
   "execution_count": 636,
   "metadata": {},
   "outputs": [
    {
     "data": {
      "text/plain": [
       "60000"
      ]
     },
     "execution_count": 636,
     "metadata": {},
     "output_type": "execute_result"
    }
   ],
   "source": [
    "len(dataset)"
   ]
  },
  {
   "cell_type": "code",
   "execution_count": 637,
   "metadata": {},
   "outputs": [
    {
     "data": {
      "text/plain": [
       "10000"
      ]
     },
     "execution_count": 637,
     "metadata": {},
     "output_type": "execute_result"
    }
   ],
   "source": [
    "test_data = MNIST(root=\"data/\", train=False, transform=transforms.ToTensor())\n",
    "len(test_data)"
   ]
  },
  {
   "cell_type": "code",
   "execution_count": 638,
   "metadata": {},
   "outputs": [
    {
     "data": {
      "text/plain": [
       "(<PIL.Image.Image image mode=L size=28x28 at 0x7FC5ADF4AB80>, 5)"
      ]
     },
     "execution_count": 638,
     "metadata": {},
     "output_type": "execute_result"
    }
   ],
   "source": [
    "dataset[0]"
   ]
  },
  {
   "cell_type": "code",
   "execution_count": 639,
   "metadata": {},
   "outputs": [
    {
     "data": {
      "text/plain": [
       "<matplotlib.image.AxesImage at 0x7fc5aed51e20>"
      ]
     },
     "execution_count": 639,
     "metadata": {},
     "output_type": "execute_result"
    },
    {
     "data": {
      "image/png": "[encoded data removed]",
      "text/plain": [
       "<Figure size 432x288 with 1 Axes>"
      ]
     },
     "metadata": {
      "needs_background": "light"
     },
     "output_type": "display_data"
    }
   ],
   "source": [
    "image, label = dataset[0]\n",
    "plt.imshow(image, cmap=\"gray\")"
   ]
  },
  {
   "cell_type": "code",
   "execution_count": 640,
   "metadata": {},
   "outputs": [
    {
     "data": {
      "text/plain": [
       "<matplotlib.image.AxesImage at 0x7fc5af17d940>"
      ]
     },
     "execution_count": 640,
     "metadata": {},
     "output_type": "execute_result"
    },
    {
     "data": {
      "image/png": "[encoded data removed]",
      "text/plain": [
       "<Figure size 432x288 with 1 Axes>"
      ]
     },
     "metadata": {
      "needs_background": "light"
     },
     "output_type": "display_data"
    }
   ],
   "source": [
    "image, label = dataset[10]\n",
    "plt.imshow(image, cmap=\"gray\")"
   ]
  },
  {
   "cell_type": "code",
   "execution_count": 641,
   "metadata": {},
   "outputs": [],
   "source": [
    "# MNIST dataset (images and labels)\n",
    "dataset = MNIST(root='data/', train=True, transform=transforms.ToTensor())"
   ]
  },
  {
   "cell_type": "code",
   "execution_count": 642,
   "metadata": {},
   "outputs": [
    {
     "name": "stdout",
     "output_type": "stream",
     "text": [
      "torch.Size([1, 28, 28]) 5\n"
     ]
    }
   ],
   "source": [
    "'''\n",
    "The image is now converted to a 1x28x28 tensor.\n",
    "The first dimension tracks color channels.\n",
    "The second and third dimensions represent pixels along the height and width of the image, respectively.\n",
    "Since images in the MNIST dataset are grayscale, there's just one channel.\n",
    "Other datasets have images with color, in which case there are three channels: red, green, and blue (RGB).\n",
    "'''\n",
    "img_tensor, label = dataset[0]\n",
    "print(img_tensor.shape, label)"
   ]
  },
  {
   "cell_type": "code",
   "execution_count": 643,
   "metadata": {},
   "outputs": [
    {
     "data": {
      "image/png": "[encoded data removed]",
      "text/plain": [
       "<Figure size 432x288 with 1 Axes>"
      ]
     },
     "metadata": {
      "needs_background": "light"
     },
     "output_type": "display_data"
    }
   ],
   "source": [
    "# Plot the image by passing in the 28x28 matrix\n",
    "plt.imshow(img_tensor[0,10:15,10:15], cmap='gray');"
   ]
  },
  {
   "cell_type": "code",
   "execution_count": 644,
   "metadata": {},
   "outputs": [
    {
     "data": {
      "text/plain": [
       "(50000, 10000)"
      ]
     },
     "execution_count": 644,
     "metadata": {},
     "output_type": "execute_result"
    }
   ],
   "source": [
    "train_ds, val_ds = random_split(dataset, [50000, 10000])\n",
    "len(train_ds), len(val_ds)"
   ]
  },
  {
   "cell_type": "code",
   "execution_count": 645,
   "metadata": {},
   "outputs": [
    {
     "name": "stdout",
     "output_type": "stream",
     "text": [
      "\u001b[0;31mSignature:\u001b[0m\n",
      "\u001b[0mrandom_split\u001b[0m\u001b[0;34m(\u001b[0m\u001b[0;34m\u001b[0m\n",
      "\u001b[0;34m\u001b[0m    \u001b[0mdataset\u001b[0m\u001b[0;34m:\u001b[0m \u001b[0mtorch\u001b[0m\u001b[0;34m.\u001b[0m\u001b[0mutils\u001b[0m\u001b[0;34m.\u001b[0m\u001b[0mdata\u001b[0m\u001b[0;34m.\u001b[0m\u001b[0mdataset\u001b[0m\u001b[0;34m.\u001b[0m\u001b[0mDataset\u001b[0m\u001b[0;34m[\u001b[0m\u001b[0;34m~\u001b[0m\u001b[0mT\u001b[0m\u001b[0;34m]\u001b[0m\u001b[0;34m,\u001b[0m\u001b[0;34m\u001b[0m\n",
      "\u001b[0;34m\u001b[0m    \u001b[0mlengths\u001b[0m\u001b[0;34m:\u001b[0m \u001b[0mSequence\u001b[0m\u001b[0;34m[\u001b[0m\u001b[0mint\u001b[0m\u001b[0;34m]\u001b[0m\u001b[0;34m,\u001b[0m\u001b[0;34m\u001b[0m\n",
      "\u001b[0;34m\u001b[0m    \u001b[0mgenerator\u001b[0m\u001b[0;34m:\u001b[0m \u001b[0mUnion\u001b[0m\u001b[0;34m[\u001b[0m\u001b[0mtorch\u001b[0m\u001b[0;34m.\u001b[0m\u001b[0m_C\u001b[0m\u001b[0;34m.\u001b[0m\u001b[0mGenerator\u001b[0m\u001b[0;34m,\u001b[0m \u001b[0mNoneType\u001b[0m\u001b[0;34m]\u001b[0m \u001b[0;34m=\u001b[0m \u001b[0;34m<\u001b[0m\u001b[0mtorch\u001b[0m\u001b[0;34m.\u001b[0m\u001b[0m_C\u001b[0m\u001b[0;34m.\u001b[0m\u001b[0mGenerator\u001b[0m \u001b[0mobject\u001b[0m \u001b[0mat\u001b[0m \u001b[0;36m0x7fc614093e10\u001b[0m\u001b[0;34m>\u001b[0m\u001b[0;34m,\u001b[0m\u001b[0;34m\u001b[0m\n",
      "\u001b[0;34m\u001b[0m\u001b[0;34m)\u001b[0m \u001b[0;34m->\u001b[0m \u001b[0mList\u001b[0m\u001b[0;34m[\u001b[0m\u001b[0mtorch\u001b[0m\u001b[0;34m.\u001b[0m\u001b[0mutils\u001b[0m\u001b[0;34m.\u001b[0m\u001b[0mdata\u001b[0m\u001b[0;34m.\u001b[0m\u001b[0mdataset\u001b[0m\u001b[0;34m.\u001b[0m\u001b[0mSubset\u001b[0m\u001b[0;34m[\u001b[0m\u001b[0;34m~\u001b[0m\u001b[0mT\u001b[0m\u001b[0;34m]\u001b[0m\u001b[0;34m]\u001b[0m\u001b[0;34m\u001b[0m\u001b[0;34m\u001b[0m\u001b[0m\n",
      "\u001b[0;31mDocstring:\u001b[0m\n",
      "Randomly split a dataset into non-overlapping new datasets of given lengths.\n",
      "Optionally fix the generator for reproducible results, e.g.:\n",
      "\n",
      ">>> random_split(range(10), [3, 7], generator=torch.Generator().manual_seed(42))\n",
      "\n",
      "Arguments:\n",
      "    dataset (Dataset): Dataset to be split\n",
      "    lengths (sequence): lengths of splits to be produced\n",
      "    generator (Generator): Generator used for the random permutation.\n",
      "\u001b[0;31mFile:\u001b[0m      ~/.local/lib/python3.8/site-packages/torch/utils/data/dataset.py\n",
      "\u001b[0;31mType:\u001b[0m      function\n"
     ]
    }
   ],
   "source": [
    "?random_split"
   ]
  },
  {
   "cell_type": "code",
   "execution_count": 646,
   "metadata": {},
   "outputs": [],
   "source": [
    "batch_size = 128\n",
    "\n",
    "train_loader = DataLoader(train_ds, batch_size, shuffle=True)\n",
    "val_loader = DataLoader(val_ds, batch_size)"
   ]
  },
  {
   "cell_type": "code",
   "execution_count": 647,
   "metadata": {},
   "outputs": [],
   "source": [
    "input_size = 28*28\n",
    "number_classes = 10\n",
    "\n",
    "model = nn.Linear(input_size, number_classes)"
   ]
  },
  {
   "cell_type": "code",
   "execution_count": 648,
   "metadata": {},
   "outputs": [
    {
     "name": "stdout",
     "output_type": "stream",
     "text": [
      "Parameter containing:\n",
      "tensor([[-0.0309,  0.0350,  0.0298,  ...,  0.0172, -0.0087,  0.0193],\n",
      "        [-0.0248, -0.0253, -0.0056,  ..., -0.0159, -0.0101, -0.0326],\n",
      "        [ 0.0341, -0.0176, -0.0296,  ...,  0.0061, -0.0003, -0.0299],\n",
      "        ...,\n",
      "        [-0.0220, -0.0266,  0.0154,  ..., -0.0131, -0.0071,  0.0076],\n",
      "        [ 0.0197,  0.0310, -0.0195,  ..., -0.0129,  0.0153, -0.0140],\n",
      "        [ 0.0076, -0.0134, -0.0332,  ...,  0.0078,  0.0273, -0.0058]],\n",
      "       requires_grad=True)\n",
      "torch.Size([10, 784])\n"
     ]
    }
   ],
   "source": [
    "print(model.weight)\n",
    "print(model.weight.shape)"
   ]
  },
  {
   "cell_type": "code",
   "execution_count": 649,
   "metadata": {},
   "outputs": [
    {
     "name": "stdout",
     "output_type": "stream",
     "text": [
      "Parameter containing:\n",
      "tensor([ 0.0103,  0.0101,  0.0251,  0.0177, -0.0106,  0.0094, -0.0267, -0.0240,\n",
      "         0.0298,  0.0016], requires_grad=True)\n",
      "torch.Size([10])\n"
     ]
    }
   ],
   "source": [
    "print(model.bias)\n",
    "print(model.bias.shape)"
   ]
  },
  {
   "cell_type": "code",
   "execution_count": 650,
   "metadata": {},
   "outputs": [],
   "source": [
    "# for images, labels in train_loader:\n",
    "#     print(images.shape)\n",
    "#     print(labels)\n",
    "#     predict = model(images)\n",
    "#     break"
   ]
  },
  {
   "cell_type": "markdown",
   "metadata": {},
   "source": [
    "The Above error is because the input was suppose to take an input of 784 size of images but it has taken an input of [100,1,28,28] due to this the model is unable to process its operation."
   ]
  },
  {
   "cell_type": "markdown",
   "metadata": {},
   "source": [
    "Defining MnistModel to extend the nn.Module class from Pytorch"
   ]
  },
  {
   "cell_type": "code",
   "execution_count": 651,
   "metadata": {},
   "outputs": [],
   "source": [
    "'''\n",
    "xb.reshape(-1, 28*28) indicates to PyTorch that we want a view of the xb tensor with two dimensions.\n",
    "The length along the 2nd dimension is 28*28 (i.e., 784).\n",
    "One argument to .reshape can be set to -1 (in this case, the first dimension) to let PyTorch figure it out automatically based on the shape of the original tensor.\n",
    "'''\n",
    "class MnistModel(nn.Module):\n",
    "    def __init__(self):\n",
    "        super().__init__()\n",
    "        self.linear = nn.Linear(input_size, number_classes)\n",
    "        \n",
    "    def forward(self, xb):\n",
    "        xb = xb.reshape(-1, 784) # Explaination given above\n",
    "        out = self.linear(xb)\n",
    "        return out\n",
    "    \n",
    "model = MnistModel()"
   ]
  },
  {
   "cell_type": "code",
   "execution_count": 652,
   "metadata": {},
   "outputs": [
    {
     "data": {
      "text/plain": [
       "Linear(in_features=784, out_features=10, bias=True)"
      ]
     },
     "execution_count": 652,
     "metadata": {},
     "output_type": "execute_result"
    }
   ],
   "source": [
    "model.linear"
   ]
  },
  {
   "cell_type": "code",
   "execution_count": 653,
   "metadata": {},
   "outputs": [
    {
     "name": "stdout",
     "output_type": "stream",
     "text": [
      "torch.Size([10, 784])\n"
     ]
    },
    {
     "data": {
      "text/plain": [
       "[Parameter containing:\n",
       " tensor([[ 0.0355,  0.0341, -0.0293,  ..., -0.0107,  0.0206,  0.0218],\n",
       "         [ 0.0270, -0.0139,  0.0132,  ...,  0.0320, -0.0120,  0.0249],\n",
       "         [ 0.0136, -0.0283,  0.0102,  ..., -0.0103, -0.0150,  0.0045],\n",
       "         ...,\n",
       "         [-0.0027,  0.0277,  0.0118,  ..., -0.0125,  0.0206, -0.0041],\n",
       "         [ 0.0196,  0.0321, -0.0198,  ..., -0.0339, -0.0345, -0.0122],\n",
       "         [ 0.0267,  0.0245, -0.0150,  ..., -0.0198,  0.0024,  0.0297]],\n",
       "        requires_grad=True), Parameter containing:\n",
       " tensor([ 0.0093, -0.0040, -0.0138,  0.0248,  0.0041,  0.0279, -0.0066,  0.0062,\n",
       "         -0.0064, -0.0005], requires_grad=True)]"
      ]
     },
     "execution_count": 653,
     "metadata": {},
     "output_type": "execute_result"
    }
   ],
   "source": [
    "'''\n",
    "Note that the model no longer has .weight and .bias attributes (as they are now inside the .linear attribute),\n",
    "but it does have a .parameters method that returns a list containing the weights and bias.\n",
    "'''\n",
    "print(model.linear.weight.shape)\n",
    "list(model.parameters())"
   ]
  },
  {
   "cell_type": "code",
   "execution_count": 654,
   "metadata": {},
   "outputs": [
    {
     "name": "stdout",
     "output_type": "stream",
     "text": [
      "torch.Size([128, 1, 28, 28])\n",
      "tensor([7, 9, 3, 1, 3, 7, 5, 1, 3, 6, 7, 8, 7, 7, 4, 4, 4, 3, 6, 3, 3, 4, 9, 8,\n",
      "        4, 8, 4, 2, 6, 4, 8, 9, 3, 4, 3, 8, 0, 7, 5, 3, 3, 3, 5, 5, 8, 2, 7, 0,\n",
      "        7, 2, 3, 4, 8, 5, 2, 8, 9, 3, 6, 1, 6, 7, 5, 1, 9, 1, 6, 2, 4, 9, 7, 7,\n",
      "        8, 7, 1, 6, 2, 0, 9, 4, 5, 9, 1, 9, 9, 3, 3, 5, 5, 5, 1, 3, 4, 1, 9, 5,\n",
      "        0, 0, 0, 5, 5, 3, 1, 1, 9, 0, 0, 7, 5, 8, 4, 0, 9, 7, 2, 2, 1, 4, 1, 3,\n",
      "        6, 3, 4, 1, 2, 8, 9, 6])\n",
      "outputs.shape :  torch.Size([128, 10])\n",
      "Sample outputs :\n",
      " tensor([[ 0.2879,  0.2657, -0.0300,  0.2693, -0.1041, -0.1257, -0.3794,  0.0169,\n",
      "          0.3653,  0.0474],\n",
      "        [ 0.0614,  0.1896, -0.1488,  0.1011,  0.1060, -0.2109, -0.1644, -0.1834,\n",
      "         -0.1040,  0.3517]])\n"
     ]
    },
    {
     "data": {
      "text/plain": [
       "\"\\nFor each of the 128 input images, we get 10 outputs, one for each class.\\nAs discussed earlier, we'd like these outputs to represent probabilities.\\nEach output row's elements must lie between 0 to 1 and add up to 1, which is not the case.\\n\\nTo convert the output rows into probabilities, we use the softmax function\\n\""
      ]
     },
     "execution_count": 654,
     "metadata": {},
     "output_type": "execute_result"
    }
   ],
   "source": [
    "for images, labels in train_loader:\n",
    "    print(images.shape)\n",
    "    print(labels)\n",
    "    outputs = model(images)\n",
    "    break\n",
    "\n",
    "print('outputs.shape : ', outputs.shape)\n",
    "print('Sample outputs :\\n', outputs[:2].data)\n",
    "\n",
    "'''\n",
    "For each of the 128 input images, we get 10 outputs, one for each class.\n",
    "As discussed earlier, we'd like these outputs to represent probabilities.\n",
    "Each output row's elements must lie between 0 to 1 and add up to 1, which is not the case.\n",
    "\n",
    "To convert the output rows into probabilities, we use the softmax function\n",
    "'''"
   ]
  },
  {
   "cell_type": "code",
   "execution_count": 655,
   "metadata": {},
   "outputs": [
    {
     "name": "stdout",
     "output_type": "stream",
     "text": [
      "Sample probabilities:\n",
      " tensor([[0.1224, 0.1198, 0.0891, 0.1202, 0.0827, 0.0810, 0.0628, 0.0934, 0.1323,\n",
      "         0.0963],\n",
      "        [0.1046, 0.1189, 0.0848, 0.1088, 0.1094, 0.0797, 0.0835, 0.0819, 0.0887,\n",
      "         0.1398]])\n",
      "Sum:  0.9999999403953552\n"
     ]
    }
   ],
   "source": [
    "# Apply softmax for each output row\n",
    "probs = F.softmax(outputs, dim=1)\n",
    "\n",
    "# Look at sample probabilities\n",
    "print(\"Sample probabilities:\\n\", probs[:2].data)\n",
    "\n",
    "# Add up the probabilities of an output row\n",
    "print(\"Sum: \", torch.sum(probs[0]).item())"
   ]
  },
  {
   "cell_type": "code",
   "execution_count": 656,
   "metadata": {},
   "outputs": [
    {
     "name": "stdout",
     "output_type": "stream",
     "text": [
      "tensor([8, 9, 1, 9, 1, 1, 1, 9, 9, 1, 0, 1, 1, 1, 9, 0, 1, 5, 8, 5, 1, 8, 1, 1,\n",
      "        2, 1, 1, 1, 9, 0, 9, 4, 5, 5, 1, 8, 8, 3, 1, 1, 5, 2, 9, 8, 1, 1, 3, 0,\n",
      "        1, 9, 2, 1, 9, 1, 9, 1, 1, 8, 9, 9, 1, 1, 1, 1, 8, 9, 0, 9, 9, 1, 0, 1,\n",
      "        1, 8, 9, 1, 9, 8, 8, 9, 1, 1, 1, 1, 1, 1, 1, 1, 8, 1, 9, 1, 9, 9, 8, 5,\n",
      "        0, 1, 8, 9, 1, 1, 9, 9, 1, 0, 1, 0, 0, 1, 1, 9, 1, 1, 0, 1, 9, 4, 9, 8,\n",
      "        8, 5, 0, 9, 8, 5, 0, 8])\n"
     ]
    }
   ],
   "source": [
    "max_probs, preds = torch.max(probs, dim=1)\n",
    "print(preds)"
   ]
  },
  {
   "cell_type": "code",
   "execution_count": 657,
   "metadata": {},
   "outputs": [
    {
     "data": {
      "text/plain": [
       "tensor([7, 9, 3, 1, 3, 7, 5, 1, 3, 6, 7, 8, 7, 7, 4, 4, 4, 3, 6, 3, 3, 4, 9, 8,\n",
       "        4, 8, 4, 2, 6, 4, 8, 9, 3, 4, 3, 8, 0, 7, 5, 3, 3, 3, 5, 5, 8, 2, 7, 0,\n",
       "        7, 2, 3, 4, 8, 5, 2, 8, 9, 3, 6, 1, 6, 7, 5, 1, 9, 1, 6, 2, 4, 9, 7, 7,\n",
       "        8, 7, 1, 6, 2, 0, 9, 4, 5, 9, 1, 9, 9, 3, 3, 5, 5, 5, 1, 3, 4, 1, 9, 5,\n",
       "        0, 0, 0, 5, 5, 3, 1, 1, 9, 0, 0, 7, 5, 8, 4, 0, 9, 7, 2, 2, 1, 4, 1, 3,\n",
       "        6, 3, 4, 1, 2, 8, 9, 6])"
      ]
     },
     "execution_count": 657,
     "metadata": {},
     "output_type": "execute_result"
    }
   ],
   "source": [
    "labels"
   ]
  },
  {
   "cell_type": "code",
   "execution_count": 658,
   "metadata": {},
   "outputs": [],
   "source": [
    "# Defining a accuracy function\n",
    "def accuracy(outputs, labels):\n",
    "    _, preds = torch.max(outputs, dim=1)\n",
    "    return torch.tensor(torch.sum(preds == labels).item() / len(preds))"
   ]
  },
  {
   "cell_type": "code",
   "execution_count": 659,
   "metadata": {},
   "outputs": [],
   "source": [
    "#accuracy(preds, labels)"
   ]
  },
  {
   "cell_type": "code",
   "execution_count": 660,
   "metadata": {},
   "outputs": [],
   "source": [
    "# accuracy is often used as an evaluation metric for classification, but not as a loss function.\n",
    "# A commonly used loss function for classification problems is the cross-entropy.\n",
    "# Unlike accuracy, cross-entropy is a continuous and differentiable function.\n",
    "# It also provides useful feedback for incremental improvements in the model (a slightly higher probability for the correct label leads to a lower loss).\n",
    "# These two factors make cross-entropy a better choice for the loss function.\n",
    "loss = F.cross_entropy(outputs, labels)"
   ]
  },
  {
   "cell_type": "code",
   "execution_count": 661,
   "metadata": {},
   "outputs": [
    {
     "name": "stdout",
     "output_type": "stream",
     "text": [
      "tensor(2.2745, grad_fn=<NllLossBackward>)\n"
     ]
    }
   ],
   "source": [
    "# One way to interpret the resulting number e.g. 2.30 is look at e^-2.30 which is around 0.1 as the predicted probability of the correct label, on average.\n",
    "# The lower the loss, The better the model.\n",
    "print(loss)"
   ]
  },
  {
   "cell_type": "code",
   "execution_count": 662,
   "metadata": {},
   "outputs": [],
   "source": [
    "learning_rate = 0.001\n",
    "opt = torch.optim.SGD(model.parameters(), lr=learning_rate)"
   ]
  },
  {
   "cell_type": "code",
   "execution_count": 663,
   "metadata": {},
   "outputs": [],
   "source": [
    "def fit(epochs, lr, model, train_loader, val_loader, opt_func=torch.optim.SGD):\n",
    "    optimizer = opt_func(model.parameters(), lr)\n",
    "    history = [] # for recording epoch-wise results\n",
    "    \n",
    "    for epoch in range(epochs):\n",
    "        \n",
    "        # Training Phase \n",
    "        for batch in train_loader:\n",
    "            loss = model.training_step(batch)\n",
    "            loss.backward()\n",
    "            optimizer.step()\n",
    "            optimizer.zero_grad()\n",
    "        \n",
    "        # Validation phase\n",
    "        result = evaluate(model, val_loader)\n",
    "        model.epoch_end(epoch, result)\n",
    "        history.append(result)\n",
    "\n",
    "    return history"
   ]
  },
  {
   "cell_type": "code",
   "execution_count": 664,
   "metadata": {},
   "outputs": [],
   "source": [
    "def evaluate(model, val_loader):\n",
    "    outputs = [model.validation_step(batch) for batch in val_loader]\n",
    "    return model.validation_epoch_end(outputs)"
   ]
  },
  {
   "cell_type": "code",
   "execution_count": 665,
   "metadata": {},
   "outputs": [],
   "source": [
    "class MnistModel(nn.Module):\n",
    "    def __init__(self):\n",
    "        super().__init__()\n",
    "        self.linear = nn.Linear(input_size, number_classes)\n",
    "        \n",
    "    def forward(self, xb):\n",
    "        xb = xb.reshape(-1, 784)\n",
    "        out = self.linear(xb)\n",
    "        return out\n",
    "    \n",
    "    def training_step(self, batch):\n",
    "        images, labels = batch \n",
    "        out = self(images)                  # Generate predictions\n",
    "        loss = F.cross_entropy(out, labels) # Calculate loss\n",
    "        return loss\n",
    "    \n",
    "    def validation_step(self, batch):\n",
    "        images, labels = batch \n",
    "        out = self(images)                    # Generate predictions\n",
    "        loss = F.cross_entropy(out, labels)   # Calculate loss\n",
    "        acc = accuracy(out, labels)           # Calculate accuracy\n",
    "        return {'val_loss': loss, 'val_acc': acc}\n",
    "        \n",
    "    def validation_epoch_end(self, outputs):\n",
    "        batch_losses = [x['val_loss'] for x in outputs]\n",
    "        epoch_loss = torch.stack(batch_losses).mean()   # Combine losses\n",
    "        #print(outputs)\n",
    "        batch_accs = [x['val_acc'] for x in outputs]\n",
    "        #print(batch_accs)\n",
    "        epoch_acc = torch.stack(batch_accs).mean()      # Combine accuracies\n",
    "        #print(epoch_acc)\n",
    "        return {'val_loss': epoch_loss.item(), 'val_acc': epoch_acc.item()}\n",
    "    \n",
    "    def epoch_end(self, epoch, result):\n",
    "        print(\"Epoch [{}], val_loss: {:.4f}, val_acc: {:.4f}\".format(epoch, result['val_loss'], result['val_acc']))\n",
    "    \n",
    "model = MnistModel()"
   ]
  },
  {
   "cell_type": "code",
   "execution_count": 666,
   "metadata": {},
   "outputs": [
    {
     "name": "stdout",
     "output_type": "stream",
     "text": [
      "Epoch [0], val_loss: 1.9706, val_acc: 0.6039\n",
      "Epoch [1], val_loss: 1.6947, val_acc: 0.7302\n",
      "Epoch [2], val_loss: 1.4886, val_acc: 0.7708\n",
      "Epoch [3], val_loss: 1.3330, val_acc: 0.7892\n",
      "Epoch [4], val_loss: 1.2136, val_acc: 0.8030\n",
      "Epoch [0], val_loss: 1.1198, val_acc: 0.8109\n",
      "Epoch [1], val_loss: 1.0448, val_acc: 0.8184\n",
      "Epoch [2], val_loss: 0.9835, val_acc: 0.8243\n",
      "Epoch [3], val_loss: 0.9325, val_acc: 0.8289\n",
      "Epoch [4], val_loss: 0.8894, val_acc: 0.8329\n",
      "Epoch [0], val_loss: 0.8526, val_acc: 0.8356\n",
      "Epoch [1], val_loss: 0.8209, val_acc: 0.8390\n",
      "Epoch [2], val_loss: 0.7930, val_acc: 0.8409\n",
      "Epoch [3], val_loss: 0.7684, val_acc: 0.8440\n",
      "Epoch [4], val_loss: 0.7466, val_acc: 0.8464\n",
      "Epoch [0], val_loss: 0.7271, val_acc: 0.8483\n",
      "Epoch [1], val_loss: 0.7094, val_acc: 0.8506\n",
      "Epoch [2], val_loss: 0.6935, val_acc: 0.8518\n",
      "Epoch [3], val_loss: 0.6789, val_acc: 0.8531\n",
      "Epoch [4], val_loss: 0.6656, val_acc: 0.8550\n"
     ]
    }
   ],
   "source": [
    "result0 = evaluate(model, val_loader)\n",
    "history1 = fit(5, 0.001, model, train_loader, val_loader)\n",
    "history2 = fit(5, 0.001, model, train_loader, val_loader)\n",
    "history3 = fit(5, 0.001, model, train_loader, val_loader)\n",
    "history4 = fit(5, 0.001, model, train_loader, val_loader)"
   ]
  },
  {
   "cell_type": "code",
   "execution_count": 667,
   "metadata": {},
   "outputs": [
    {
     "data": {
      "image/png": "[encoded data removed]",
      "text/plain": [
       "<Figure size 432x288 with 1 Axes>"
      ]
     },
     "metadata": {
      "needs_background": "light"
     },
     "output_type": "display_data"
    }
   ],
   "source": [
    "history = [result0] + history1 + history2 + history3 + history4\n",
    "accuracies = [result['val_acc'] for result in history]\n",
    "plt.plot(accuracies, '-x')\n",
    "plt.xlabel('epoch')\n",
    "plt.ylabel('accuracy')\n",
    "plt.title('Accuracy vs. No. of epochs');"
   ]
  },
  {
   "cell_type": "markdown",
   "metadata": {},
   "source": [
    "## Testing with individual images"
   ]
  },
  {
   "cell_type": "code",
   "execution_count": 668,
   "metadata": {},
   "outputs": [],
   "source": [
    "# Define test dataset\n",
    "test_dataset = MNIST(root='data/', train=False, transform=transforms.ToTensor())"
   ]
  },
  {
   "cell_type": "code",
   "execution_count": 669,
   "metadata": {},
   "outputs": [
    {
     "name": "stdout",
     "output_type": "stream",
     "text": [
      "Shape: torch.Size([1, 28, 28])\n",
      "Label: 7\n"
     ]
    },
    {
     "data": {
      "image/png": "[encoded data removed]",
      "text/plain": [
       "<Figure size 432x288 with 1 Axes>"
      ]
     },
     "metadata": {
      "needs_background": "light"
     },
     "output_type": "display_data"
    }
   ],
   "source": [
    "img, label = test_dataset[0]\n",
    "plt.imshow(img[0], cmap='gray')\n",
    "print('Shape:', img.shape)\n",
    "print('Label:', label)"
   ]
  },
  {
   "cell_type": "code",
   "execution_count": 670,
   "metadata": {},
   "outputs": [],
   "source": [
    "def predict_image(img, model):\n",
    "    xb = img.unsqueeze(0)\n",
    "    yb = model(xb)\n",
    "    _, preds = torch.max(yb, dim=1)\n",
    "    return preds[0].item()"
   ]
  },
  {
   "cell_type": "code",
   "execution_count": 671,
   "metadata": {},
   "outputs": [
    {
     "name": "stdout",
     "output_type": "stream",
     "text": [
      "Label: 7 , Predicted: 7\n"
     ]
    },
    {
     "data": {
      "image/png": "[encoded data removed]",
      "text/plain": [
       "<Figure size 432x288 with 1 Axes>"
      ]
     },
     "metadata": {
      "needs_background": "light"
     },
     "output_type": "display_data"
    }
   ],
   "source": [
    "img, label = test_dataset[0]\n",
    "plt.imshow(img[0], cmap='gray')\n",
    "print('Label:', label, ', Predicted:', predict_image(img, model))"
   ]
  },
  {
   "cell_type": "code",
   "execution_count": 672,
   "metadata": {},
   "outputs": [
    {
     "name": "stdout",
     "output_type": "stream",
     "text": [
      "Label: 0 , Predicted: 0\n"
     ]
    },
    {
     "data": {
      "image/png": "[encoded data removed]",
      "text/plain": [
       "<Figure size 432x288 with 1 Axes>"
      ]
     },
     "metadata": {
      "needs_background": "light"
     },
     "output_type": "display_data"
    }
   ],
   "source": [
    "img, label = test_dataset[10]\n",
    "plt.imshow(img[0], cmap='gray')\n",
    "print('Label:', label, ', Predicted:', predict_image(img, model))"
   ]
  },
  {
   "cell_type": "code",
   "execution_count": 673,
   "metadata": {},
   "outputs": [
    {
     "name": "stdout",
     "output_type": "stream",
     "text": [
      "Label: 9 , Predicted: 4\n"
     ]
    },
    {
     "data": {
      "image/png": "[encoded data removed]",
      "text/plain": [
       "<Figure size 432x288 with 1 Axes>"
      ]
     },
     "metadata": {
      "needs_background": "light"
     },
     "output_type": "display_data"
    }
   ],
   "source": [
    "img, label = test_dataset[193]\n",
    "plt.imshow(img[0], cmap='gray')\n",
    "print('Label:', label, ', Predicted:', predict_image(img, model))"
   ]
  },
  {
   "cell_type": "code",
   "execution_count": 674,
   "metadata": {},
   "outputs": [
    {
     "name": "stdout",
     "output_type": "stream",
     "text": [
      "Label: 2 , Predicted: 8\n"
     ]
    },
    {
     "data": {
      "image/png": "[encoded data removed]",
      "text/plain": [
       "<Figure size 432x288 with 1 Axes>"
      ]
     },
     "metadata": {
      "needs_background": "light"
     },
     "output_type": "display_data"
    }
   ],
   "source": [
    "img, label = test_dataset[1839]\n",
    "plt.imshow(img[0], cmap='gray')\n",
    "print('Label:', label, ', Predicted:', predict_image(img, model))"
   ]
  },
  {
   "cell_type": "code",
   "execution_count": 675,
   "metadata": {},
   "outputs": [
    {
     "data": {
      "text/plain": [
       "{'val_loss': 0.6437196731567383, 'val_acc': 0.8597656488418579}"
      ]
     },
     "execution_count": 675,
     "metadata": {},
     "output_type": "execute_result"
    }
   ],
   "source": [
    "test_loader = DataLoader(test_dataset, batch_size=256)\n",
    "result = evaluate(model, test_loader)\n",
    "result"
   ]
  },
  {
   "cell_type": "markdown",
   "metadata": {},
   "source": [
    "## Saving and loading the model"
   ]
  },
  {
   "cell_type": "code",
   "execution_count": 676,
   "metadata": {},
   "outputs": [],
   "source": [
    "torch.save(model.state_dict(), 'mnist-logistic.pth')"
   ]
  },
  {
   "cell_type": "code",
   "execution_count": 677,
   "metadata": {},
   "outputs": [
    {
     "data": {
      "text/plain": [
       "OrderedDict([('linear.weight',\n",
       "              tensor([[ 0.0045,  0.0232, -0.0113,  ...,  0.0136,  0.0062, -0.0113],\n",
       "                      [-0.0193,  0.0141, -0.0065,  ..., -0.0310, -0.0159, -0.0280],\n",
       "                      [-0.0145, -0.0007,  0.0076,  ...,  0.0244, -0.0343, -0.0145],\n",
       "                      ...,\n",
       "                      [-0.0020,  0.0027, -0.0197,  ...,  0.0101, -0.0352, -0.0326],\n",
       "                      [ 0.0104,  0.0333,  0.0275,  ...,  0.0186,  0.0030, -0.0323],\n",
       "                      [-0.0179, -0.0306, -0.0005,  ...,  0.0204,  0.0087,  0.0131]])),\n",
       "             ('linear.bias',\n",
       "              tensor([-0.0293,  0.0827, -0.0348, -0.0534,  0.0520,  0.0471,  0.0047,  0.0349,\n",
       "                      -0.0577, -0.0124]))])"
      ]
     },
     "execution_count": 677,
     "metadata": {},
     "output_type": "execute_result"
    }
   ],
   "source": [
    "model.state_dict()"
   ]
  },
  {
   "cell_type": "code",
   "execution_count": 678,
   "metadata": {},
   "outputs": [],
   "source": [
    "model2 = MnistModel()"
   ]
  },
  {
   "cell_type": "code",
   "execution_count": 679,
   "metadata": {},
   "outputs": [
    {
     "data": {
      "text/plain": [
       "OrderedDict([('linear.weight',\n",
       "              tensor([[-0.0033, -0.0144,  0.0299,  ...,  0.0140,  0.0306,  0.0347],\n",
       "                      [-0.0148, -0.0029,  0.0340,  ...,  0.0271,  0.0216,  0.0261],\n",
       "                      [-0.0285,  0.0154,  0.0295,  ..., -0.0214,  0.0082, -0.0138],\n",
       "                      ...,\n",
       "                      [ 0.0296, -0.0163, -0.0281,  ..., -0.0006,  0.0284, -0.0190],\n",
       "                      [-0.0080,  0.0288, -0.0090,  ...,  0.0106, -0.0182,  0.0175],\n",
       "                      [-0.0172,  0.0172,  0.0258,  ...,  0.0049, -0.0011,  0.0350]])),\n",
       "             ('linear.bias',\n",
       "              tensor([ 0.0235, -0.0180,  0.0186,  0.0264, -0.0014, -0.0108,  0.0357,  0.0074,\n",
       "                      -0.0101, -0.0043]))])"
      ]
     },
     "execution_count": 679,
     "metadata": {},
     "output_type": "execute_result"
    }
   ],
   "source": [
    "model2.state_dict()"
   ]
  },
  {
   "cell_type": "code",
   "execution_count": 680,
   "metadata": {},
   "outputs": [
    {
     "data": {
      "text/plain": [
       "{'val_loss': 2.309016227722168, 'val_acc': 0.10957030951976776}"
      ]
     },
     "execution_count": 680,
     "metadata": {},
     "output_type": "execute_result"
    }
   ],
   "source": [
    "evaluate(model2, test_loader)"
   ]
  },
  {
   "cell_type": "code",
   "execution_count": 681,
   "metadata": {},
   "outputs": [
    {
     "data": {
      "text/plain": [
       "OrderedDict([('linear.weight',\n",
       "              tensor([[ 0.0045,  0.0232, -0.0113,  ...,  0.0136,  0.0062, -0.0113],\n",
       "                      [-0.0193,  0.0141, -0.0065,  ..., -0.0310, -0.0159, -0.0280],\n",
       "                      [-0.0145, -0.0007,  0.0076,  ...,  0.0244, -0.0343, -0.0145],\n",
       "                      ...,\n",
       "                      [-0.0020,  0.0027, -0.0197,  ...,  0.0101, -0.0352, -0.0326],\n",
       "                      [ 0.0104,  0.0333,  0.0275,  ...,  0.0186,  0.0030, -0.0323],\n",
       "                      [-0.0179, -0.0306, -0.0005,  ...,  0.0204,  0.0087,  0.0131]])),\n",
       "             ('linear.bias',\n",
       "              tensor([-0.0293,  0.0827, -0.0348, -0.0534,  0.0520,  0.0471,  0.0047,  0.0349,\n",
       "                      -0.0577, -0.0124]))])"
      ]
     },
     "execution_count": 681,
     "metadata": {},
     "output_type": "execute_result"
    }
   ],
   "source": [
    "model2.load_state_dict(torch.load('mnist-logistic.pth'))\n",
    "model2.state_dict()"
   ]
  },
  {
   "cell_type": "code",
   "execution_count": 682,
   "metadata": {},
   "outputs": [
    {
     "data": {
      "text/plain": [
       "{'val_loss': 0.6437196731567383, 'val_acc': 0.8597656488418579}"
      ]
     },
     "execution_count": 682,
     "metadata": {},
     "output_type": "execute_result"
    }
   ],
   "source": [
    "test_loader = DataLoader(test_dataset, batch_size=256)\n",
    "result = evaluate(model2, test_loader)\n",
    "result"
   ]
  }
 ],
 "metadata": {
  "interpreter": {
   "hash": "31f2aee4e71d21fbe5cf8b01ff0e069b9275f58929596ceb00d14d90e3e16cd6"
  },
  "kernelspec": {
   "display_name": "Python 3.8.10 64-bit",
   "language": "python",
   "name": "python3"
  },
  "language_info": {
   "codemirror_mode": {
    "name": "ipython",
    "version": 3
   },
   "file_extension": ".py",
   "mimetype": "text/x-python",
   "name": "python",
   "nbconvert_exporter": "python",
   "pygments_lexer": "ipython3",
   "version": "3.8.10"
  },
  "orig_nbformat": 4
 },
 "nbformat": 4,
 "nbformat_minor": 2
}
